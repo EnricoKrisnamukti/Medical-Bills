{
 "cells": [
  {
   "cell_type": "code",
   "execution_count": 531,
   "id": "60288bee",
   "metadata": {},
   "outputs": [],
   "source": [
    "import pandas as pd\n",
    "import matplotlib.pyplot as plt\n",
    "import numpy as np\n",
    "import seaborn as sns\n",
    "# import scipy.stats as stats\n",
    "from scipy import stats"
   ]
  },
  {
   "cell_type": "code",
   "execution_count": 532,
   "id": "fae703b6",
   "metadata": {},
   "outputs": [],
   "source": [
    "df = pd.read_csv('insurance.csv')"
   ]
  },
  {
   "cell_type": "markdown",
   "id": "942c15da",
   "metadata": {},
   "source": [
    "<h1>Descriptive Analysis</h1>"
   ]
  },
  {
   "cell_type": "markdown",
   "id": "485c7b15",
   "metadata": {},
   "source": [
    "<h4>Average charges based on age</h4>"
   ]
  },
  {
   "cell_type": "markdown",
   "id": "ac5b635e",
   "metadata": {},
   "source": [
    "<h3>Statistik Deskriptif</h3>"
   ]
  },
  {
   "cell_type": "markdown",
   "id": "7aa7d2c9",
   "metadata": {},
   "source": [
    "<h4>Deskriptif Sex</h4>"
   ]
  },
  {
   "cell_type": "code",
   "execution_count": 538,
   "id": "0142fef6",
   "metadata": {},
   "outputs": [
    {
     "data": {
      "text/html": [
       "<div>\n",
       "<style scoped>\n",
       "    .dataframe tbody tr th:only-of-type {\n",
       "        vertical-align: middle;\n",
       "    }\n",
       "\n",
       "    .dataframe tbody tr th {\n",
       "        vertical-align: top;\n",
       "    }\n",
       "\n",
       "    .dataframe thead th {\n",
       "        text-align: right;\n",
       "    }\n",
       "</style>\n",
       "<table border=\"1\" class=\"dataframe\">\n",
       "  <thead>\n",
       "    <tr style=\"text-align: right;\">\n",
       "      <th></th>\n",
       "      <th>age</th>\n",
       "      <th>sex</th>\n",
       "      <th>bmi</th>\n",
       "      <th>children</th>\n",
       "      <th>smoker</th>\n",
       "      <th>region</th>\n",
       "      <th>charges</th>\n",
       "    </tr>\n",
       "  </thead>\n",
       "  <tbody>\n",
       "    <tr>\n",
       "      <th>0</th>\n",
       "      <td>19</td>\n",
       "      <td>female</td>\n",
       "      <td>27.90</td>\n",
       "      <td>0</td>\n",
       "      <td>yes</td>\n",
       "      <td>southwest</td>\n",
       "      <td>16884.92</td>\n",
       "    </tr>\n",
       "    <tr>\n",
       "      <th>1</th>\n",
       "      <td>18</td>\n",
       "      <td>male</td>\n",
       "      <td>33.77</td>\n",
       "      <td>1</td>\n",
       "      <td>no</td>\n",
       "      <td>southeast</td>\n",
       "      <td>1725.55</td>\n",
       "    </tr>\n",
       "    <tr>\n",
       "      <th>2</th>\n",
       "      <td>28</td>\n",
       "      <td>male</td>\n",
       "      <td>33.00</td>\n",
       "      <td>3</td>\n",
       "      <td>no</td>\n",
       "      <td>southeast</td>\n",
       "      <td>4449.46</td>\n",
       "    </tr>\n",
       "    <tr>\n",
       "      <th>3</th>\n",
       "      <td>33</td>\n",
       "      <td>male</td>\n",
       "      <td>22.70</td>\n",
       "      <td>0</td>\n",
       "      <td>no</td>\n",
       "      <td>northwest</td>\n",
       "      <td>21984.47</td>\n",
       "    </tr>\n",
       "    <tr>\n",
       "      <th>4</th>\n",
       "      <td>32</td>\n",
       "      <td>male</td>\n",
       "      <td>28.88</td>\n",
       "      <td>0</td>\n",
       "      <td>no</td>\n",
       "      <td>northwest</td>\n",
       "      <td>3866.86</td>\n",
       "    </tr>\n",
       "  </tbody>\n",
       "</table>\n",
       "</div>"
      ],
      "text/plain": [
       "   age     sex   bmi  children smoker     region  charges\n",
       "0   19  female 27.90         0    yes  southwest 16884.92\n",
       "1   18    male 33.77         1     no  southeast  1725.55\n",
       "2   28    male 33.00         3     no  southeast  4449.46\n",
       "3   33    male 22.70         0     no  northwest 21984.47\n",
       "4   32    male 28.88         0     no  northwest  3866.86"
      ]
     },
     "execution_count": 538,
     "metadata": {},
     "output_type": "execute_result"
    }
   ],
   "source": [
    "df.head()"
   ]
  },
  {
   "cell_type": "code",
   "execution_count": 539,
   "id": "6e00d63f",
   "metadata": {},
   "outputs": [],
   "source": [
    "# Hitung statistik deskriptif \n",
    "summary_statistics_sex = df.groupby('sex').agg({\n",
    "    'age': ['count', 'mean'],         # Jumlah data, rata-rata umur\n",
    "    'bmi': 'mean',                    # Rata-rata bmi\n",
    "    'charges': ['mean', 'std', 'min', 'max']  # Rata-rata, std, minimum, dan maksimum charges\n",
    "}).reset_index()\n",
    "\n",
    "# Hitung persentase jumlah data terhadap total (1338)\n",
    "summary_statistics_sex['age', 'count'] = summary_statistics_sex['age', 'count'] / 1338 * 100\n",
    "\n",
    "# Ubah cara tampilan angka desimal\n",
    "pd.options.display.float_format = '{:.2f}'.format  # Menggunakan dua angka desimal"
   ]
  },
  {
   "cell_type": "code",
   "execution_count": 540,
   "id": "eb5ea11a",
   "metadata": {},
   "outputs": [],
   "source": [
    "summary_statistics_sex.columns = ['Sex', 'percentage', 'Mean Age', \n",
    "                              'Mean BMI', 'Mean Charges', \n",
    "                              'Standard Charges', 'Min Charges', \n",
    "                              'Max Charges']"
   ]
  },
  {
   "cell_type": "code",
   "execution_count": 541,
   "id": "4c44d59a",
   "metadata": {},
   "outputs": [
    {
     "data": {
      "text/html": [
       "<div>\n",
       "<style scoped>\n",
       "    .dataframe tbody tr th:only-of-type {\n",
       "        vertical-align: middle;\n",
       "    }\n",
       "\n",
       "    .dataframe tbody tr th {\n",
       "        vertical-align: top;\n",
       "    }\n",
       "\n",
       "    .dataframe thead th {\n",
       "        text-align: right;\n",
       "    }\n",
       "</style>\n",
       "<table border=\"1\" class=\"dataframe\">\n",
       "  <thead>\n",
       "    <tr style=\"text-align: right;\">\n",
       "      <th></th>\n",
       "      <th>Sex</th>\n",
       "      <th>percentage</th>\n",
       "      <th>Mean Age</th>\n",
       "      <th>Mean BMI</th>\n",
       "      <th>Mean Charges</th>\n",
       "      <th>Standard Charges</th>\n",
       "      <th>Min Charges</th>\n",
       "      <th>Max Charges</th>\n",
       "    </tr>\n",
       "  </thead>\n",
       "  <tbody>\n",
       "    <tr>\n",
       "      <th>0</th>\n",
       "      <td>female</td>\n",
       "      <td>49.48</td>\n",
       "      <td>39.50</td>\n",
       "      <td>30.38</td>\n",
       "      <td>12569.58</td>\n",
       "      <td>11128.70</td>\n",
       "      <td>1607.51</td>\n",
       "      <td>63770.43</td>\n",
       "    </tr>\n",
       "    <tr>\n",
       "      <th>1</th>\n",
       "      <td>male</td>\n",
       "      <td>50.52</td>\n",
       "      <td>38.92</td>\n",
       "      <td>30.94</td>\n",
       "      <td>13956.75</td>\n",
       "      <td>12971.03</td>\n",
       "      <td>1121.87</td>\n",
       "      <td>62592.87</td>\n",
       "    </tr>\n",
       "  </tbody>\n",
       "</table>\n",
       "</div>"
      ],
      "text/plain": [
       "      Sex  percentage  Mean Age  Mean BMI  Mean Charges  Standard Charges  \\\n",
       "0  female       49.48     39.50     30.38      12569.58          11128.70   \n",
       "1    male       50.52     38.92     30.94      13956.75          12971.03   \n",
       "\n",
       "   Min Charges  Max Charges  \n",
       "0      1607.51     63770.43  \n",
       "1      1121.87     62592.87  "
      ]
     },
     "execution_count": 541,
     "metadata": {},
     "output_type": "execute_result"
    }
   ],
   "source": [
    "summary_statistics_sex"
   ]
  },
  {
   "cell_type": "code",
   "execution_count": 542,
   "id": "ab8ae709",
   "metadata": {},
   "outputs": [
    {
     "data": {
      "text/plain": [
       "39.21009045567493"
      ]
     },
     "execution_count": 542,
     "metadata": {},
     "output_type": "execute_result"
    }
   ],
   "source": [
    "summary_statistics_sex['Mean Age'].sum()/2"
   ]
  },
  {
   "cell_type": "markdown",
   "id": "b19a9f20",
   "metadata": {},
   "source": [
    "<h4>Deskriptif Smoker</h4>"
   ]
  },
  {
   "cell_type": "code",
   "execution_count": 543,
   "id": "bf91e4fa",
   "metadata": {},
   "outputs": [],
   "source": [
    "# Hitung statistik deskriptif \n",
    "summary_statistics_smoker = df.groupby('smoker').agg({\n",
    "    'age': ['count', 'mean'],         # Jumlah data, rata-rata umur\n",
    "    'bmi': 'mean',                    # Rata-rata bmi\n",
    "    'charges': ['mean', 'std', 'min', 'max']  # Rata-rata, std, minimum, dan maksimum charges\n",
    "}).reset_index()\n",
    "\n",
    "# Hitung persentase jumlah data terhadap total (1338)\n",
    "summary_statistics_smoker['age', 'count'] = summary_statistics_smoker['age', 'count'] / 1338 * 100\n",
    "\n",
    "# Ubah cara tampilan angka desimal\n",
    "pd.options.display.float_format = '{:.2f}'.format  # Menggunakan dua angka desimal"
   ]
  },
  {
   "cell_type": "code",
   "execution_count": 544,
   "id": "985f18fe",
   "metadata": {},
   "outputs": [],
   "source": [
    "summary_statistics_smoker.columns = ['Smoker', 'percentage', 'Mean Age', \n",
    "                              'Mean BMI', 'Mean Charges', \n",
    "                              'Std_charges', 'Min Charges', \n",
    "                              'Max Charges']"
   ]
  },
  {
   "cell_type": "code",
   "execution_count": 545,
   "id": "0d574062",
   "metadata": {},
   "outputs": [
    {
     "data": {
      "text/html": [
       "<div>\n",
       "<style scoped>\n",
       "    .dataframe tbody tr th:only-of-type {\n",
       "        vertical-align: middle;\n",
       "    }\n",
       "\n",
       "    .dataframe tbody tr th {\n",
       "        vertical-align: top;\n",
       "    }\n",
       "\n",
       "    .dataframe thead th {\n",
       "        text-align: right;\n",
       "    }\n",
       "</style>\n",
       "<table border=\"1\" class=\"dataframe\">\n",
       "  <thead>\n",
       "    <tr style=\"text-align: right;\">\n",
       "      <th></th>\n",
       "      <th>Smoker</th>\n",
       "      <th>percentage</th>\n",
       "      <th>Mean Age</th>\n",
       "      <th>Mean BMI</th>\n",
       "      <th>Mean Charges</th>\n",
       "      <th>Std_charges</th>\n",
       "      <th>Min Charges</th>\n",
       "      <th>Max Charges</th>\n",
       "    </tr>\n",
       "  </thead>\n",
       "  <tbody>\n",
       "    <tr>\n",
       "      <th>0</th>\n",
       "      <td>no</td>\n",
       "      <td>79.52</td>\n",
       "      <td>39.39</td>\n",
       "      <td>30.65</td>\n",
       "      <td>8434.27</td>\n",
       "      <td>5993.78</td>\n",
       "      <td>1121.87</td>\n",
       "      <td>36910.61</td>\n",
       "    </tr>\n",
       "    <tr>\n",
       "      <th>1</th>\n",
       "      <td>yes</td>\n",
       "      <td>20.48</td>\n",
       "      <td>38.51</td>\n",
       "      <td>30.71</td>\n",
       "      <td>32050.23</td>\n",
       "      <td>11541.55</td>\n",
       "      <td>12829.46</td>\n",
       "      <td>63770.43</td>\n",
       "    </tr>\n",
       "  </tbody>\n",
       "</table>\n",
       "</div>"
      ],
      "text/plain": [
       "  Smoker  percentage  Mean Age  Mean BMI  Mean Charges  Std_charges  \\\n",
       "0     no       79.52     39.39     30.65       8434.27      5993.78   \n",
       "1    yes       20.48     38.51     30.71      32050.23     11541.55   \n",
       "\n",
       "   Min Charges  Max Charges  \n",
       "0      1121.87     36910.61  \n",
       "1     12829.46     63770.43  "
      ]
     },
     "execution_count": 545,
     "metadata": {},
     "output_type": "execute_result"
    }
   ],
   "source": [
    "summary_statistics_smoker"
   ]
  },
  {
   "cell_type": "markdown",
   "id": "adc1997c",
   "metadata": {},
   "source": [
    "<h4>Deskriptif Smoker dan Sex</h4>"
   ]
  },
  {
   "cell_type": "code",
   "execution_count": 546,
   "id": "055c3de7",
   "metadata": {},
   "outputs": [
    {
     "data": {
      "text/html": [
       "<div>\n",
       "<style scoped>\n",
       "    .dataframe tbody tr th:only-of-type {\n",
       "        vertical-align: middle;\n",
       "    }\n",
       "\n",
       "    .dataframe tbody tr th {\n",
       "        vertical-align: top;\n",
       "    }\n",
       "\n",
       "    .dataframe thead th {\n",
       "        text-align: right;\n",
       "    }\n",
       "</style>\n",
       "<table border=\"1\" class=\"dataframe\">\n",
       "  <thead>\n",
       "    <tr style=\"text-align: right;\">\n",
       "      <th></th>\n",
       "      <th>smoker</th>\n",
       "      <th>sex</th>\n",
       "      <th>percentage</th>\n",
       "      <th>mean_age</th>\n",
       "      <th>mean_bmi</th>\n",
       "      <th>mean_charges</th>\n",
       "      <th>std_charges</th>\n",
       "      <th>min_charges</th>\n",
       "      <th>max_charges</th>\n",
       "    </tr>\n",
       "  </thead>\n",
       "  <tbody>\n",
       "    <tr>\n",
       "      <th>0</th>\n",
       "      <td>no</td>\n",
       "      <td>female</td>\n",
       "      <td>40.88</td>\n",
       "      <td>39.69</td>\n",
       "      <td>30.54</td>\n",
       "      <td>8762.30</td>\n",
       "      <td>6060.78</td>\n",
       "      <td>1607.51</td>\n",
       "      <td>36910.61</td>\n",
       "    </tr>\n",
       "    <tr>\n",
       "      <th>1</th>\n",
       "      <td>no</td>\n",
       "      <td>male</td>\n",
       "      <td>38.64</td>\n",
       "      <td>39.06</td>\n",
       "      <td>30.77</td>\n",
       "      <td>8087.20</td>\n",
       "      <td>5908.11</td>\n",
       "      <td>1121.87</td>\n",
       "      <td>32108.66</td>\n",
       "    </tr>\n",
       "    <tr>\n",
       "      <th>2</th>\n",
       "      <td>yes</td>\n",
       "      <td>female</td>\n",
       "      <td>8.59</td>\n",
       "      <td>38.61</td>\n",
       "      <td>29.61</td>\n",
       "      <td>30679.00</td>\n",
       "      <td>11907.54</td>\n",
       "      <td>13844.51</td>\n",
       "      <td>63770.43</td>\n",
       "    </tr>\n",
       "    <tr>\n",
       "      <th>3</th>\n",
       "      <td>yes</td>\n",
       "      <td>male</td>\n",
       "      <td>11.88</td>\n",
       "      <td>38.45</td>\n",
       "      <td>31.50</td>\n",
       "      <td>33042.01</td>\n",
       "      <td>11202.67</td>\n",
       "      <td>12829.46</td>\n",
       "      <td>62592.87</td>\n",
       "    </tr>\n",
       "  </tbody>\n",
       "</table>\n",
       "</div>"
      ],
      "text/plain": [
       "  smoker     sex  percentage  mean_age  mean_bmi  mean_charges  std_charges  \\\n",
       "0     no  female       40.88     39.69     30.54       8762.30      6060.78   \n",
       "1     no    male       38.64     39.06     30.77       8087.20      5908.11   \n",
       "2    yes  female        8.59     38.61     29.61      30679.00     11907.54   \n",
       "3    yes    male       11.88     38.45     31.50      33042.01     11202.67   \n",
       "\n",
       "   min_charges  max_charges  \n",
       "0      1607.51     36910.61  \n",
       "1      1121.87     32108.66  \n",
       "2     13844.51     63770.43  \n",
       "3     12829.46     62592.87  "
      ]
     },
     "execution_count": 546,
     "metadata": {},
     "output_type": "execute_result"
    }
   ],
   "source": [
    "# Menggunakan groupby untuk mengelompokkan berdasarkan 'smoker' dan 'sex' dan menghitung statistik\n",
    "summary_smoker_sex = df.groupby(['smoker', 'sex']).agg({\n",
    "    'age': ['count', 'mean'],                 # Jumlah data, average age\n",
    "    'bmi': 'mean',                            # Mean bmi\n",
    "    'charges': ['mean', 'std', 'min', 'max']  # Mean, variance, min, max charges\n",
    "}).reset_index()\n",
    "\n",
    "# Hitung persentase jumlah data terhadap total (1338)\n",
    "summary_smoker_sex['age', 'count'] = summary_smoker_sex['age', 'count'] / 1338 * 100\n",
    "\n",
    "# Ubah cara tampilan angka desimal\n",
    "pd.options.display.float_format = '{:.2f}'.format  # Menggunakan dua angka desimal\n",
    "\n",
    "# Memberi nama ulang kolom-kolom pada hasil agregasi\n",
    "summary_smoker_sex.columns = ['smoker', 'sex', 'percentage', 'mean_age', \n",
    "                              'mean_bmi', 'mean_charges', 'std_charges',\n",
    "                              'min_charges', 'max_charges']\n",
    "\n",
    "# Menampilkan hasil\n",
    "summary_smoker_sex\n"
   ]
  },
  {
   "cell_type": "markdown",
   "id": "693b5fb7",
   "metadata": {},
   "source": [
    "<h4> Deskriptif BMI</h4>"
   ]
  },
  {
   "cell_type": "code",
   "execution_count": 547,
   "id": "5ec6726a",
   "metadata": {},
   "outputs": [],
   "source": [
    "# Membuat kategori BMI\n",
    "bmi = df\n",
    "bmi = bmi['bmi'].apply(lambda x: 'no' if x <= 25\n",
    "                                                else 'yes'\n",
    "                                            )"
   ]
  },
  {
   "cell_type": "code",
   "execution_count": 548,
   "id": "3c3dbd34",
   "metadata": {},
   "outputs": [],
   "source": [
    "df_kategori_bmi = df\n",
    "df_kategori_bmi.insert(2, 'overweight', bmi)"
   ]
  },
  {
   "cell_type": "code",
   "execution_count": 549,
   "id": "b8b0e19a",
   "metadata": {},
   "outputs": [],
   "source": [
    "# df_kategori_bmi.drop('bmi', axis=1, inplace=True)"
   ]
  },
  {
   "cell_type": "code",
   "execution_count": 550,
   "id": "b2e7a372",
   "metadata": {},
   "outputs": [
    {
     "data": {
      "text/html": [
       "<div>\n",
       "<style scoped>\n",
       "    .dataframe tbody tr th:only-of-type {\n",
       "        vertical-align: middle;\n",
       "    }\n",
       "\n",
       "    .dataframe tbody tr th {\n",
       "        vertical-align: top;\n",
       "    }\n",
       "\n",
       "    .dataframe thead th {\n",
       "        text-align: right;\n",
       "    }\n",
       "</style>\n",
       "<table border=\"1\" class=\"dataframe\">\n",
       "  <thead>\n",
       "    <tr style=\"text-align: right;\">\n",
       "      <th></th>\n",
       "      <th>smoker</th>\n",
       "      <th>overweight</th>\n",
       "      <th>percentage</th>\n",
       "      <th>mean_age</th>\n",
       "      <th>mean_bmi</th>\n",
       "      <th>mean_charges</th>\n",
       "      <th>std_charges</th>\n",
       "      <th>min_charges</th>\n",
       "      <th>max_charges</th>\n",
       "    </tr>\n",
       "  </thead>\n",
       "  <tbody>\n",
       "    <tr>\n",
       "      <th>0</th>\n",
       "      <td>no</td>\n",
       "      <td>no</td>\n",
       "      <td>14.35</td>\n",
       "      <td>36.28</td>\n",
       "      <td>22.21</td>\n",
       "      <td>7547.18</td>\n",
       "      <td>5708.02</td>\n",
       "      <td>1121.87</td>\n",
       "      <td>30166.62</td>\n",
       "    </tr>\n",
       "    <tr>\n",
       "      <th>1</th>\n",
       "      <td>no</td>\n",
       "      <td>yes</td>\n",
       "      <td>65.17</td>\n",
       "      <td>40.07</td>\n",
       "      <td>32.51</td>\n",
       "      <td>8629.59</td>\n",
       "      <td>6040.55</td>\n",
       "      <td>1131.51</td>\n",
       "      <td>36910.61</td>\n",
       "    </tr>\n",
       "    <tr>\n",
       "      <th>2</th>\n",
       "      <td>yes</td>\n",
       "      <td>no</td>\n",
       "      <td>4.11</td>\n",
       "      <td>37.31</td>\n",
       "      <td>22.28</td>\n",
       "      <td>19839.28</td>\n",
       "      <td>4583.25</td>\n",
       "      <td>12829.46</td>\n",
       "      <td>35069.37</td>\n",
       "    </tr>\n",
       "    <tr>\n",
       "      <th>3</th>\n",
       "      <td>yes</td>\n",
       "      <td>yes</td>\n",
       "      <td>16.37</td>\n",
       "      <td>38.82</td>\n",
       "      <td>32.83</td>\n",
       "      <td>35116.91</td>\n",
       "      <td>10702.56</td>\n",
       "      <td>15518.18</td>\n",
       "      <td>63770.43</td>\n",
       "    </tr>\n",
       "  </tbody>\n",
       "</table>\n",
       "</div>"
      ],
      "text/plain": [
       "  smoker overweight  percentage  mean_age  mean_bmi  mean_charges  \\\n",
       "0     no         no       14.35     36.28     22.21       7547.18   \n",
       "1     no        yes       65.17     40.07     32.51       8629.59   \n",
       "2    yes         no        4.11     37.31     22.28      19839.28   \n",
       "3    yes        yes       16.37     38.82     32.83      35116.91   \n",
       "\n",
       "   std_charges  min_charges  max_charges  \n",
       "0      5708.02      1121.87     30166.62  \n",
       "1      6040.55      1131.51     36910.61  \n",
       "2      4583.25     12829.46     35069.37  \n",
       "3     10702.56     15518.18     63770.43  "
      ]
     },
     "execution_count": 550,
     "metadata": {},
     "output_type": "execute_result"
    }
   ],
   "source": [
    "# Menggunakan groupby untuk mengelompokkan berdasarkan 'smoker' dan 'sex' dan menghitung statistik\n",
    "summary_smoker_weight = df.groupby(['smoker', 'overweight']).agg({\n",
    "    'age': ['count', 'mean'],                 # Jumlah data, average age\n",
    "    'bmi': 'mean',                            # Mean bmi\n",
    "    'charges': ['mean', 'std', 'min', 'max']  # Mean, variance, min, max charges\n",
    "}).reset_index()\n",
    "\n",
    "# Hitung persentase jumlah data terhadap total (1338)\n",
    "summary_smoker_weight['age', 'count'] = summary_smoker_weight['age', 'count'] / 1338 * 100\n",
    "\n",
    "# Ubah cara tampilan angka desimal\n",
    "pd.options.display.float_format = '{:.2f}'.format  # Menggunakan dua angka desimal\n",
    "\n",
    "# Memberi nama ulang kolom-kolom pada hasil agregasi\n",
    "summary_smoker_weight.columns = ['smoker', 'overweight', 'percentage', 'mean_age', \n",
    "                              'mean_bmi', 'mean_charges', 'std_charges',\n",
    "                              'min_charges', 'max_charges']\n",
    "\n",
    "# Menampilkan hasil\n",
    "summary_smoker_weight\n"
   ]
  },
  {
   "cell_type": "markdown",
   "id": "92c9d2ed",
   "metadata": {},
   "source": [
    "<h1>Discrete Analysis</h1>"
   ]
  },
  {
   "cell_type": "code",
   "execution_count": 551,
   "id": "9643e35f",
   "metadata": {},
   "outputs": [],
   "source": [
    "# 3.Apakah setiap region memiliki proporsi data banyak orang yang sama?"
   ]
  },
  {
   "cell_type": "code",
   "execution_count": 552,
   "id": "079a93a5",
   "metadata": {},
   "outputs": [
    {
     "data": {
      "text/html": [
       "<div>\n",
       "<style scoped>\n",
       "    .dataframe tbody tr th:only-of-type {\n",
       "        vertical-align: middle;\n",
       "    }\n",
       "\n",
       "    .dataframe tbody tr th {\n",
       "        vertical-align: top;\n",
       "    }\n",
       "\n",
       "    .dataframe thead th {\n",
       "        text-align: right;\n",
       "    }\n",
       "</style>\n",
       "<table border=\"1\" class=\"dataframe\">\n",
       "  <thead>\n",
       "    <tr style=\"text-align: right;\">\n",
       "      <th></th>\n",
       "      <th>region</th>\n",
       "      <th>percentage</th>\n",
       "      <th>mean_age</th>\n",
       "      <th>mean_bmi</th>\n",
       "      <th>mean_charges</th>\n",
       "      <th>std_charges</th>\n",
       "      <th>min_charges</th>\n",
       "      <th>max_charges</th>\n",
       "    </tr>\n",
       "  </thead>\n",
       "  <tbody>\n",
       "    <tr>\n",
       "      <th>0</th>\n",
       "      <td>northeast</td>\n",
       "      <td>24.22</td>\n",
       "      <td>39.27</td>\n",
       "      <td>29.17</td>\n",
       "      <td>13406.38</td>\n",
       "      <td>11255.80</td>\n",
       "      <td>1694.80</td>\n",
       "      <td>58571.07</td>\n",
       "    </tr>\n",
       "    <tr>\n",
       "      <th>1</th>\n",
       "      <td>northwest</td>\n",
       "      <td>24.29</td>\n",
       "      <td>39.20</td>\n",
       "      <td>29.20</td>\n",
       "      <td>12417.58</td>\n",
       "      <td>11072.28</td>\n",
       "      <td>1621.34</td>\n",
       "      <td>60021.40</td>\n",
       "    </tr>\n",
       "    <tr>\n",
       "      <th>2</th>\n",
       "      <td>southeast</td>\n",
       "      <td>27.20</td>\n",
       "      <td>38.94</td>\n",
       "      <td>33.36</td>\n",
       "      <td>14735.41</td>\n",
       "      <td>13971.10</td>\n",
       "      <td>1121.87</td>\n",
       "      <td>63770.43</td>\n",
       "    </tr>\n",
       "    <tr>\n",
       "      <th>3</th>\n",
       "      <td>southwest</td>\n",
       "      <td>24.29</td>\n",
       "      <td>39.46</td>\n",
       "      <td>30.60</td>\n",
       "      <td>12346.94</td>\n",
       "      <td>11557.18</td>\n",
       "      <td>1241.57</td>\n",
       "      <td>52590.83</td>\n",
       "    </tr>\n",
       "  </tbody>\n",
       "</table>\n",
       "</div>"
      ],
      "text/plain": [
       "      region  percentage  mean_age  mean_bmi  mean_charges  std_charges  \\\n",
       "0  northeast       24.22     39.27     29.17      13406.38     11255.80   \n",
       "1  northwest       24.29     39.20     29.20      12417.58     11072.28   \n",
       "2  southeast       27.20     38.94     33.36      14735.41     13971.10   \n",
       "3  southwest       24.29     39.46     30.60      12346.94     11557.18   \n",
       "\n",
       "   min_charges  max_charges  \n",
       "0      1694.80     58571.07  \n",
       "1      1621.34     60021.40  \n",
       "2      1121.87     63770.43  \n",
       "3      1241.57     52590.83  "
      ]
     },
     "execution_count": 552,
     "metadata": {},
     "output_type": "execute_result"
    }
   ],
   "source": [
    "# Menggunakan groupby untuk mengelompokkan\n",
    "summary_region = df.groupby(['region']).agg({\n",
    "            'age': ['count', 'mean'],                 # Jumlah data, average age\n",
    "            'bmi': 'mean',                            # Mean bmi\n",
    "            'charges': ['mean', 'std', 'min', 'max']  # Mean, variance, min, max charges\n",
    "}).reset_index()\n",
    "\n",
    "# Hitung persentase jumlah data terhadap total (1338)\n",
    "summary_region['age', 'count'] = summary_region['age', 'count'] / 1338 * 100\n",
    "\n",
    "# Ubah cara tampilan angka desimal\n",
    "pd.options.display.float_format = '{:.2f}'.format  # Menggunakan dua angka desimal\n",
    "\n",
    "# Memberi nama ulang kolom-kolom pada hasil agregasi\n",
    "summary_region.columns = ['region', 'percentage', 'mean_age', \n",
    "                          'mean_bmi', 'mean_charges', 'std_charges',\n",
    "                          'min_charges', 'max_charges']\n",
    "\n",
    "# Menampilkan hasil\n",
    "summary_region\n"
   ]
  },
  {
   "cell_type": "code",
   "execution_count": 553,
   "id": "64df1896",
   "metadata": {},
   "outputs": [
    {
     "data": {
      "image/png": "[encoded data removed]",
      "text/plain": [
       "<Figure size 900x600 with 1 Axes>"
      ]
     },
     "metadata": {},
     "output_type": "display_data"
    }
   ],
   "source": [
    "plt.figure(figsize=(9, 6))\n",
    "sns.barplot(data=summary_region,\n",
    "            x=summary_region['region'], \n",
    "            y=summary_region['percentage'])\n",
    "plt.title('Proporsi Data per Region')\n",
    "plt.xlabel('Region')\n",
    "plt.ylabel('Percentage (%)')\n",
    "plt.show()"
   ]
  },
  {
   "cell_type": "code",
   "execution_count": 554,
   "id": "91149ece",
   "metadata": {},
   "outputs": [],
   "source": [
    "# 4.Berapa peluang seseorang tersebut adalah perempuan diketahui dia adalah perokok?"
   ]
  },
  {
   "cell_type": "code",
   "execution_count": 555,
   "id": "6e9824f3",
   "metadata": {},
   "outputs": [
    {
     "data": {
      "text/html": [
       "<div>\n",
       "<style scoped>\n",
       "    .dataframe tbody tr th:only-of-type {\n",
       "        vertical-align: middle;\n",
       "    }\n",
       "\n",
       "    .dataframe tbody tr th {\n",
       "        vertical-align: top;\n",
       "    }\n",
       "\n",
       "    .dataframe thead th {\n",
       "        text-align: right;\n",
       "    }\n",
       "</style>\n",
       "<table border=\"1\" class=\"dataframe\">\n",
       "  <thead>\n",
       "    <tr style=\"text-align: right;\">\n",
       "      <th></th>\n",
       "      <th>Smoker</th>\n",
       "      <th>count</th>\n",
       "      <th>Mean Age</th>\n",
       "      <th>Mean BMI</th>\n",
       "      <th>Mean Charges</th>\n",
       "      <th>Std_charges</th>\n",
       "      <th>Min Charges</th>\n",
       "      <th>Max Charges</th>\n",
       "    </tr>\n",
       "  </thead>\n",
       "  <tbody>\n",
       "    <tr>\n",
       "      <th>0</th>\n",
       "      <td>no</td>\n",
       "      <td>1064</td>\n",
       "      <td>39.39</td>\n",
       "      <td>30.65</td>\n",
       "      <td>8434.27</td>\n",
       "      <td>5993.78</td>\n",
       "      <td>1121.87</td>\n",
       "      <td>36910.61</td>\n",
       "    </tr>\n",
       "    <tr>\n",
       "      <th>1</th>\n",
       "      <td>yes</td>\n",
       "      <td>274</td>\n",
       "      <td>38.51</td>\n",
       "      <td>30.71</td>\n",
       "      <td>32050.23</td>\n",
       "      <td>11541.55</td>\n",
       "      <td>12829.46</td>\n",
       "      <td>63770.43</td>\n",
       "    </tr>\n",
       "  </tbody>\n",
       "</table>\n",
       "</div>"
      ],
      "text/plain": [
       "  Smoker  count  Mean Age  Mean BMI  Mean Charges  Std_charges  Min Charges  \\\n",
       "0     no   1064     39.39     30.65       8434.27      5993.78      1121.87   \n",
       "1    yes    274     38.51     30.71      32050.23     11541.55     12829.46   \n",
       "\n",
       "   Max Charges  \n",
       "0     36910.61  \n",
       "1     63770.43  "
      ]
     },
     "execution_count": 555,
     "metadata": {},
     "output_type": "execute_result"
    }
   ],
   "source": [
    "# Hitung statistik deskriptif \n",
    "summary_statistics_smoker_2 = df.groupby('smoker').agg({\n",
    "    'age': ['count', 'mean'],         # Jumlah data, rata-rata umur\n",
    "    'bmi': 'mean',                    # Rata-rata bmi\n",
    "    'charges': ['mean', 'std', 'min', 'max']  # Rata-rata, std, minimum, dan maksimum charges\n",
    "}).reset_index()\n",
    "\n",
    "# Hitung persentase jumlah data terhadap total (1338)\n",
    "# summary_statistics_smoker['age', 'count'] = summary_statistics_smoker['age', 'count'] / 1338 * 100\n",
    "\n",
    "# Ubah cara tampilan angka desimal\n",
    "# pd.options.display.float_format = '{:.2f}'.format  # Menggunakan dua angka desimal\n",
    "\n",
    "summary_statistics_smoker_2.columns = ['Smoker', 'count', 'Mean Age', \n",
    "                              'Mean BMI', 'Mean Charges', \n",
    "                              'Std_charges', 'Min Charges', \n",
    "                              'Max Charges']\n",
    "\n",
    "summary_statistics_smoker_2"
   ]
  },
  {
   "cell_type": "code",
   "execution_count": 556,
   "id": "0f6be8a1",
   "metadata": {},
   "outputs": [
    {
     "data": {
      "text/html": [
       "<div>\n",
       "<style scoped>\n",
       "    .dataframe tbody tr th:only-of-type {\n",
       "        vertical-align: middle;\n",
       "    }\n",
       "\n",
       "    .dataframe tbody tr th {\n",
       "        vertical-align: top;\n",
       "    }\n",
       "\n",
       "    .dataframe thead th {\n",
       "        text-align: right;\n",
       "    }\n",
       "</style>\n",
       "<table border=\"1\" class=\"dataframe\">\n",
       "  <thead>\n",
       "    <tr style=\"text-align: right;\">\n",
       "      <th></th>\n",
       "      <th>smoker</th>\n",
       "      <th>sex</th>\n",
       "      <th>count</th>\n",
       "      <th>mean_age</th>\n",
       "      <th>mean_bmi</th>\n",
       "      <th>mean_charges</th>\n",
       "      <th>std_charges</th>\n",
       "      <th>min_charges</th>\n",
       "      <th>max_charges</th>\n",
       "    </tr>\n",
       "  </thead>\n",
       "  <tbody>\n",
       "    <tr>\n",
       "      <th>0</th>\n",
       "      <td>no</td>\n",
       "      <td>female</td>\n",
       "      <td>547</td>\n",
       "      <td>39.69</td>\n",
       "      <td>30.54</td>\n",
       "      <td>8762.30</td>\n",
       "      <td>6060.78</td>\n",
       "      <td>1607.51</td>\n",
       "      <td>36910.61</td>\n",
       "    </tr>\n",
       "    <tr>\n",
       "      <th>1</th>\n",
       "      <td>no</td>\n",
       "      <td>male</td>\n",
       "      <td>517</td>\n",
       "      <td>39.06</td>\n",
       "      <td>30.77</td>\n",
       "      <td>8087.20</td>\n",
       "      <td>5908.11</td>\n",
       "      <td>1121.87</td>\n",
       "      <td>32108.66</td>\n",
       "    </tr>\n",
       "    <tr>\n",
       "      <th>2</th>\n",
       "      <td>yes</td>\n",
       "      <td>female</td>\n",
       "      <td>115</td>\n",
       "      <td>38.61</td>\n",
       "      <td>29.61</td>\n",
       "      <td>30679.00</td>\n",
       "      <td>11907.54</td>\n",
       "      <td>13844.51</td>\n",
       "      <td>63770.43</td>\n",
       "    </tr>\n",
       "    <tr>\n",
       "      <th>3</th>\n",
       "      <td>yes</td>\n",
       "      <td>male</td>\n",
       "      <td>159</td>\n",
       "      <td>38.45</td>\n",
       "      <td>31.50</td>\n",
       "      <td>33042.01</td>\n",
       "      <td>11202.67</td>\n",
       "      <td>12829.46</td>\n",
       "      <td>62592.87</td>\n",
       "    </tr>\n",
       "  </tbody>\n",
       "</table>\n",
       "</div>"
      ],
      "text/plain": [
       "  smoker     sex  count  mean_age  mean_bmi  mean_charges  std_charges  \\\n",
       "0     no  female    547     39.69     30.54       8762.30      6060.78   \n",
       "1     no    male    517     39.06     30.77       8087.20      5908.11   \n",
       "2    yes  female    115     38.61     29.61      30679.00     11907.54   \n",
       "3    yes    male    159     38.45     31.50      33042.01     11202.67   \n",
       "\n",
       "   min_charges  max_charges  \n",
       "0      1607.51     36910.61  \n",
       "1      1121.87     32108.66  \n",
       "2     13844.51     63770.43  \n",
       "3     12829.46     62592.87  "
      ]
     },
     "execution_count": 556,
     "metadata": {},
     "output_type": "execute_result"
    }
   ],
   "source": [
    "# Menggunakan groupby untuk mengelompokkan berdasarkan 'smoker' dan 'sex' dan menghitung statistik\n",
    "summary_smoker_sex_2 = df.groupby(['smoker', 'sex']).agg({\n",
    "    'age': ['count', 'mean'],                 # Jumlah data, average age\n",
    "    'bmi': 'mean',                            # Mean bmi\n",
    "    'charges': ['mean', 'std', 'min', 'max']  # Mean, variance, min, max charges\n",
    "}).reset_index()\n",
    "\n",
    "# # Hitung persentase jumlah data terhadap total (1338)\n",
    "# summary_smoker_sex['age', 'count'] = summary_smoker_sex['age', 'count'] / 1338 * 100\n",
    "\n",
    "# # Ubah cara tampilan angka desimal\n",
    "# pd.options.display.float_format = '{:.2f}'.format  # Menggunakan dua angka desimal\n",
    "\n",
    "# Memberi nama ulang kolom-kolom pada hasil agregasi\n",
    "summary_smoker_sex_2.columns = ['smoker', 'sex', 'count', 'mean_age', \n",
    "                              'mean_bmi', 'mean_charges', 'std_charges',\n",
    "                              'min_charges', 'max_charges']\n",
    "\n",
    "# Menampilkan hasil\n",
    "summary_smoker_sex_2\n"
   ]
  },
  {
   "cell_type": "code",
   "execution_count": 557,
   "id": "16ac6d1e",
   "metadata": {},
   "outputs": [
    {
     "data": {
      "text/plain": [
       "0.4197080291970803"
      ]
     },
     "execution_count": 557,
     "metadata": {},
     "output_type": "execute_result"
    }
   ],
   "source": [
    "# peluang seseorang tersebut adalah perempuan diketahui dia adalah perokok adalah\n",
    "P_female_merokok_given_merokok = 115/274\n",
    "P_female_merokok_given_merokok"
   ]
  },
  {
   "cell_type": "code",
   "execution_count": 558,
   "id": "bc4d982a",
   "metadata": {},
   "outputs": [
    {
     "data": {
      "text/plain": [
       "0.5802919708029197"
      ]
     },
     "execution_count": 558,
     "metadata": {},
     "output_type": "execute_result"
    }
   ],
   "source": [
    "# Berapa peluang seseorang tersebut adalah laki-laki diketahui dia adalah perokok?\n",
    "P_male_merokok_given_merokok = 159/274\n",
    "P_male_merokok_given_merokok"
   ]
  },
  {
   "cell_type": "code",
   "execution_count": 559,
   "id": "fe290f3a",
   "metadata": {},
   "outputs": [
    {
     "data": {
      "text/html": [
       "<div>\n",
       "<style scoped>\n",
       "    .dataframe tbody tr th:only-of-type {\n",
       "        vertical-align: middle;\n",
       "    }\n",
       "\n",
       "    .dataframe tbody tr th {\n",
       "        vertical-align: top;\n",
       "    }\n",
       "\n",
       "    .dataframe thead th {\n",
       "        text-align: right;\n",
       "    }\n",
       "</style>\n",
       "<table border=\"1\" class=\"dataframe\">\n",
       "  <thead>\n",
       "    <tr style=\"text-align: right;\">\n",
       "      <th></th>\n",
       "      <th>Sex</th>\n",
       "      <th>Peluang</th>\n",
       "    </tr>\n",
       "  </thead>\n",
       "  <tbody>\n",
       "    <tr>\n",
       "      <th>0</th>\n",
       "      <td>female</td>\n",
       "      <td>0.42</td>\n",
       "    </tr>\n",
       "    <tr>\n",
       "      <th>1</th>\n",
       "      <td>male</td>\n",
       "      <td>0.58</td>\n",
       "    </tr>\n",
       "  </tbody>\n",
       "</table>\n",
       "</div>"
      ],
      "text/plain": [
       "      Sex  Peluang\n",
       "0  female     0.42\n",
       "1    male     0.58"
      ]
     },
     "execution_count": 559,
     "metadata": {},
     "output_type": "execute_result"
    }
   ],
   "source": [
    "data = {'Sex': ['female', 'male'],\n",
    "        'Peluang': [0.42, 0.58]}\n",
    "\n",
    "df_p = pd.DataFrame(data)\n",
    "df_p"
   ]
  },
  {
   "cell_type": "code",
   "execution_count": 560,
   "id": "cb7afb5a",
   "metadata": {},
   "outputs": [
    {
     "data": {
      "image/png": "[encoded data removed]",
      "text/plain": [
       "<Figure size 800x600 with 1 Axes>"
      ]
     },
     "metadata": {},
     "output_type": "display_data"
    }
   ],
   "source": [
    "plt.figure(figsize=(8, 6))\n",
    "sns.barplot(data=df_p, x='Sex', y='Peluang')\n",
    "plt.title('Proporsi Peluang berdasarkan Jenis Kelamin')\n",
    "plt.xlabel('Jenis Kelamin')\n",
    "plt.ylabel('Peluang')\n",
    "plt.show()"
   ]
  },
  {
   "cell_type": "code",
   "execution_count": 561,
   "id": "ae297cfc",
   "metadata": {},
   "outputs": [],
   "source": [
    "# 7. Bagaimana bentuk distribusi peluang besar tagihan dari tiap-tiap region?"
   ]
  },
  {
   "cell_type": "code",
   "execution_count": 562,
   "id": "39e8c3a9",
   "metadata": {},
   "outputs": [
    {
     "data": {
      "text/html": [
       "<div>\n",
       "<style scoped>\n",
       "    .dataframe tbody tr th:only-of-type {\n",
       "        vertical-align: middle;\n",
       "    }\n",
       "\n",
       "    .dataframe tbody tr th {\n",
       "        vertical-align: top;\n",
       "    }\n",
       "\n",
       "    .dataframe thead th {\n",
       "        text-align: right;\n",
       "    }\n",
       "</style>\n",
       "<table border=\"1\" class=\"dataframe\">\n",
       "  <thead>\n",
       "    <tr style=\"text-align: right;\">\n",
       "      <th></th>\n",
       "      <th>age</th>\n",
       "      <th>sex</th>\n",
       "      <th>overweight</th>\n",
       "      <th>bmi</th>\n",
       "      <th>children</th>\n",
       "      <th>smoker</th>\n",
       "      <th>region</th>\n",
       "      <th>charges</th>\n",
       "    </tr>\n",
       "  </thead>\n",
       "  <tbody>\n",
       "    <tr>\n",
       "      <th>0</th>\n",
       "      <td>19</td>\n",
       "      <td>female</td>\n",
       "      <td>yes</td>\n",
       "      <td>27.90</td>\n",
       "      <td>0</td>\n",
       "      <td>yes</td>\n",
       "      <td>southwest</td>\n",
       "      <td>16884.92</td>\n",
       "    </tr>\n",
       "    <tr>\n",
       "      <th>1</th>\n",
       "      <td>18</td>\n",
       "      <td>male</td>\n",
       "      <td>yes</td>\n",
       "      <td>33.77</td>\n",
       "      <td>1</td>\n",
       "      <td>no</td>\n",
       "      <td>southeast</td>\n",
       "      <td>1725.55</td>\n",
       "    </tr>\n",
       "    <tr>\n",
       "      <th>2</th>\n",
       "      <td>28</td>\n",
       "      <td>male</td>\n",
       "      <td>yes</td>\n",
       "      <td>33.00</td>\n",
       "      <td>3</td>\n",
       "      <td>no</td>\n",
       "      <td>southeast</td>\n",
       "      <td>4449.46</td>\n",
       "    </tr>\n",
       "    <tr>\n",
       "      <th>3</th>\n",
       "      <td>33</td>\n",
       "      <td>male</td>\n",
       "      <td>no</td>\n",
       "      <td>22.70</td>\n",
       "      <td>0</td>\n",
       "      <td>no</td>\n",
       "      <td>northwest</td>\n",
       "      <td>21984.47</td>\n",
       "    </tr>\n",
       "    <tr>\n",
       "      <th>4</th>\n",
       "      <td>32</td>\n",
       "      <td>male</td>\n",
       "      <td>yes</td>\n",
       "      <td>28.88</td>\n",
       "      <td>0</td>\n",
       "      <td>no</td>\n",
       "      <td>northwest</td>\n",
       "      <td>3866.86</td>\n",
       "    </tr>\n",
       "  </tbody>\n",
       "</table>\n",
       "</div>"
      ],
      "text/plain": [
       "   age     sex overweight   bmi  children smoker     region  charges\n",
       "0   19  female        yes 27.90         0    yes  southwest 16884.92\n",
       "1   18    male        yes 33.77         1     no  southeast  1725.55\n",
       "2   28    male        yes 33.00         3     no  southeast  4449.46\n",
       "3   33    male         no 22.70         0     no  northwest 21984.47\n",
       "4   32    male        yes 28.88         0     no  northwest  3866.86"
      ]
     },
     "execution_count": 562,
     "metadata": {},
     "output_type": "execute_result"
    }
   ],
   "source": [
    "df.head()"
   ]
  },
  {
   "cell_type": "code",
   "execution_count": 563,
   "id": "cea82f75",
   "metadata": {},
   "outputs": [
    {
     "data": {
      "text/html": [
       "<div>\n",
       "<style scoped>\n",
       "    .dataframe tbody tr th:only-of-type {\n",
       "        vertical-align: middle;\n",
       "    }\n",
       "\n",
       "    .dataframe tbody tr th {\n",
       "        vertical-align: top;\n",
       "    }\n",
       "\n",
       "    .dataframe thead th {\n",
       "        text-align: right;\n",
       "    }\n",
       "</style>\n",
       "<table border=\"1\" class=\"dataframe\">\n",
       "  <thead>\n",
       "    <tr style=\"text-align: right;\">\n",
       "      <th></th>\n",
       "      <th>0 - 10000</th>\n",
       "      <th>10001 - 20000</th>\n",
       "      <th>20001 - 30000</th>\n",
       "      <th>30001 - 40000</th>\n",
       "      <th>40001 - 50000</th>\n",
       "      <th>50001 - 60000</th>\n",
       "      <th>60001 - 70000</th>\n",
       "    </tr>\n",
       "    <tr>\n",
       "      <th>region</th>\n",
       "      <th></th>\n",
       "      <th></th>\n",
       "      <th></th>\n",
       "      <th></th>\n",
       "      <th></th>\n",
       "      <th></th>\n",
       "      <th></th>\n",
       "    </tr>\n",
       "  </thead>\n",
       "  <tbody>\n",
       "    <tr>\n",
       "      <th>northeast</th>\n",
       "      <td>161</td>\n",
       "      <td>95</td>\n",
       "      <td>33</td>\n",
       "      <td>20</td>\n",
       "      <td>14</td>\n",
       "      <td>1</td>\n",
       "      <td>0</td>\n",
       "    </tr>\n",
       "    <tr>\n",
       "      <th>northwest</th>\n",
       "      <td>176</td>\n",
       "      <td>88</td>\n",
       "      <td>32</td>\n",
       "      <td>15</td>\n",
       "      <td>12</td>\n",
       "      <td>1</td>\n",
       "      <td>1</td>\n",
       "    </tr>\n",
       "    <tr>\n",
       "      <th>southeast</th>\n",
       "      <td>193</td>\n",
       "      <td>83</td>\n",
       "      <td>27</td>\n",
       "      <td>25</td>\n",
       "      <td>34</td>\n",
       "      <td>0</td>\n",
       "      <td>2</td>\n",
       "    </tr>\n",
       "    <tr>\n",
       "      <th>southwest</th>\n",
       "      <td>182</td>\n",
       "      <td>87</td>\n",
       "      <td>19</td>\n",
       "      <td>23</td>\n",
       "      <td>12</td>\n",
       "      <td>2</td>\n",
       "      <td>0</td>\n",
       "    </tr>\n",
       "  </tbody>\n",
       "</table>\n",
       "</div>"
      ],
      "text/plain": [
       "           0 - 10000  10001 - 20000  20001 - 30000  30001 - 40000  \\\n",
       "region                                                              \n",
       "northeast        161             95             33             20   \n",
       "northwest        176             88             32             15   \n",
       "southeast        193             83             27             25   \n",
       "southwest        182             87             19             23   \n",
       "\n",
       "           40001 - 50000  50001 - 60000  60001 - 70000  \n",
       "region                                                  \n",
       "northeast             14              1              0  \n",
       "northwest             12              1              1  \n",
       "southeast             34              0              2  \n",
       "southwest             12              2              0  "
      ]
     },
     "execution_count": 563,
     "metadata": {},
     "output_type": "execute_result"
    }
   ],
   "source": [
    "# Membuat kisaran tagihan per 10,000\n",
    "tagihan_ranges = list(range(0, 70001, 10000))\n",
    "\n",
    "# Menambahkan kolom 'tagihan_range' ke DataFrame untuk mengkategorikan tagihan\n",
    "df['tagihan_range'] = pd.cut(df['charges'], bins=tagihan_ranges)\n",
    "\n",
    "# Menghitung jumlah orang dalam setiap region dan tagihan range\n",
    "result = df.groupby(['region', 'tagihan_range']).size().unstack(fill_value=0)\n",
    "\n",
    "# result.columns = ['0 - 10000', '10000 - 20000', '20000 - 30000', \n",
    "#                   '30000 - 40000', '40000 - 50000', '50000 - 60000', \n",
    "#                   '60000 - 70000']\n",
    "\n",
    "result.columns = ['0 - 10000', '10001 - 20000', '20001 - 30000', \n",
    "                  '30001 - 40000', '40001 - 50000', '50001 - 60000', \n",
    "                  '60001 - 70000']\n",
    "\n",
    "# Menampilkan tabel\n",
    "result\n"
   ]
  },
  {
   "cell_type": "code",
   "execution_count": 564,
   "id": "057894c3",
   "metadata": {},
   "outputs": [
    {
     "data": {
      "text/html": [
       "<div>\n",
       "<style scoped>\n",
       "    .dataframe tbody tr th:only-of-type {\n",
       "        vertical-align: middle;\n",
       "    }\n",
       "\n",
       "    .dataframe tbody tr th {\n",
       "        vertical-align: top;\n",
       "    }\n",
       "\n",
       "    .dataframe thead th {\n",
       "        text-align: right;\n",
       "    }\n",
       "</style>\n",
       "<table border=\"1\" class=\"dataframe\">\n",
       "  <thead>\n",
       "    <tr style=\"text-align: right;\">\n",
       "      <th></th>\n",
       "      <th>range</th>\n",
       "      <th>region</th>\n",
       "      <th>jumlah_orang</th>\n",
       "    </tr>\n",
       "  </thead>\n",
       "  <tbody>\n",
       "    <tr>\n",
       "      <th>0</th>\n",
       "      <td>0 - 10000</td>\n",
       "      <td>northeast</td>\n",
       "      <td>161</td>\n",
       "    </tr>\n",
       "    <tr>\n",
       "      <th>1</th>\n",
       "      <td>0 - 10000</td>\n",
       "      <td>northwest</td>\n",
       "      <td>176</td>\n",
       "    </tr>\n",
       "    <tr>\n",
       "      <th>2</th>\n",
       "      <td>0 - 10000</td>\n",
       "      <td>southeast</td>\n",
       "      <td>193</td>\n",
       "    </tr>\n",
       "    <tr>\n",
       "      <th>3</th>\n",
       "      <td>0 - 10000</td>\n",
       "      <td>southwest</td>\n",
       "      <td>182</td>\n",
       "    </tr>\n",
       "    <tr>\n",
       "      <th>4</th>\n",
       "      <td>10001 - 20000</td>\n",
       "      <td>northeast</td>\n",
       "      <td>95</td>\n",
       "    </tr>\n",
       "    <tr>\n",
       "      <th>5</th>\n",
       "      <td>10001 - 20000</td>\n",
       "      <td>northwest</td>\n",
       "      <td>88</td>\n",
       "    </tr>\n",
       "    <tr>\n",
       "      <th>6</th>\n",
       "      <td>10001 - 20000</td>\n",
       "      <td>southeast</td>\n",
       "      <td>83</td>\n",
       "    </tr>\n",
       "    <tr>\n",
       "      <th>7</th>\n",
       "      <td>10001 - 20000</td>\n",
       "      <td>southwest</td>\n",
       "      <td>87</td>\n",
       "    </tr>\n",
       "    <tr>\n",
       "      <th>8</th>\n",
       "      <td>20001 - 30000</td>\n",
       "      <td>northeast</td>\n",
       "      <td>33</td>\n",
       "    </tr>\n",
       "    <tr>\n",
       "      <th>9</th>\n",
       "      <td>20001 - 30000</td>\n",
       "      <td>northwest</td>\n",
       "      <td>32</td>\n",
       "    </tr>\n",
       "    <tr>\n",
       "      <th>10</th>\n",
       "      <td>20001 - 30000</td>\n",
       "      <td>southeast</td>\n",
       "      <td>27</td>\n",
       "    </tr>\n",
       "    <tr>\n",
       "      <th>11</th>\n",
       "      <td>20001 - 30000</td>\n",
       "      <td>southwest</td>\n",
       "      <td>19</td>\n",
       "    </tr>\n",
       "    <tr>\n",
       "      <th>12</th>\n",
       "      <td>30001 - 40000</td>\n",
       "      <td>northeast</td>\n",
       "      <td>20</td>\n",
       "    </tr>\n",
       "    <tr>\n",
       "      <th>13</th>\n",
       "      <td>30001 - 40000</td>\n",
       "      <td>northwest</td>\n",
       "      <td>15</td>\n",
       "    </tr>\n",
       "    <tr>\n",
       "      <th>14</th>\n",
       "      <td>30001 - 40000</td>\n",
       "      <td>southeast</td>\n",
       "      <td>25</td>\n",
       "    </tr>\n",
       "    <tr>\n",
       "      <th>15</th>\n",
       "      <td>30001 - 40000</td>\n",
       "      <td>southwest</td>\n",
       "      <td>23</td>\n",
       "    </tr>\n",
       "    <tr>\n",
       "      <th>16</th>\n",
       "      <td>40001 - 50000</td>\n",
       "      <td>northeast</td>\n",
       "      <td>14</td>\n",
       "    </tr>\n",
       "    <tr>\n",
       "      <th>17</th>\n",
       "      <td>40001 - 50000</td>\n",
       "      <td>northwest</td>\n",
       "      <td>12</td>\n",
       "    </tr>\n",
       "    <tr>\n",
       "      <th>18</th>\n",
       "      <td>40001 - 50000</td>\n",
       "      <td>southeast</td>\n",
       "      <td>34</td>\n",
       "    </tr>\n",
       "    <tr>\n",
       "      <th>19</th>\n",
       "      <td>40001 - 50000</td>\n",
       "      <td>southwest</td>\n",
       "      <td>12</td>\n",
       "    </tr>\n",
       "    <tr>\n",
       "      <th>20</th>\n",
       "      <td>50001 - 60000</td>\n",
       "      <td>northeast</td>\n",
       "      <td>1</td>\n",
       "    </tr>\n",
       "    <tr>\n",
       "      <th>21</th>\n",
       "      <td>50001 - 60000</td>\n",
       "      <td>northwest</td>\n",
       "      <td>1</td>\n",
       "    </tr>\n",
       "    <tr>\n",
       "      <th>22</th>\n",
       "      <td>50001 - 60000</td>\n",
       "      <td>southeast</td>\n",
       "      <td>0</td>\n",
       "    </tr>\n",
       "    <tr>\n",
       "      <th>23</th>\n",
       "      <td>50001 - 60000</td>\n",
       "      <td>southwest</td>\n",
       "      <td>2</td>\n",
       "    </tr>\n",
       "    <tr>\n",
       "      <th>24</th>\n",
       "      <td>60001 - 70000</td>\n",
       "      <td>northeast</td>\n",
       "      <td>0</td>\n",
       "    </tr>\n",
       "    <tr>\n",
       "      <th>25</th>\n",
       "      <td>60001 - 70000</td>\n",
       "      <td>northwest</td>\n",
       "      <td>1</td>\n",
       "    </tr>\n",
       "    <tr>\n",
       "      <th>26</th>\n",
       "      <td>60001 - 70000</td>\n",
       "      <td>southeast</td>\n",
       "      <td>2</td>\n",
       "    </tr>\n",
       "    <tr>\n",
       "      <th>27</th>\n",
       "      <td>60001 - 70000</td>\n",
       "      <td>southwest</td>\n",
       "      <td>0</td>\n",
       "    </tr>\n",
       "  </tbody>\n",
       "</table>\n",
       "</div>"
      ],
      "text/plain": [
       "            range     region  jumlah_orang\n",
       "0       0 - 10000  northeast           161\n",
       "1       0 - 10000  northwest           176\n",
       "2       0 - 10000  southeast           193\n",
       "3       0 - 10000  southwest           182\n",
       "4   10001 - 20000  northeast            95\n",
       "5   10001 - 20000  northwest            88\n",
       "6   10001 - 20000  southeast            83\n",
       "7   10001 - 20000  southwest            87\n",
       "8   20001 - 30000  northeast            33\n",
       "9   20001 - 30000  northwest            32\n",
       "10  20001 - 30000  southeast            27\n",
       "11  20001 - 30000  southwest            19\n",
       "12  30001 - 40000  northeast            20\n",
       "13  30001 - 40000  northwest            15\n",
       "14  30001 - 40000  southeast            25\n",
       "15  30001 - 40000  southwest            23\n",
       "16  40001 - 50000  northeast            14\n",
       "17  40001 - 50000  northwest            12\n",
       "18  40001 - 50000  southeast            34\n",
       "19  40001 - 50000  southwest            12\n",
       "20  50001 - 60000  northeast             1\n",
       "21  50001 - 60000  northwest             1\n",
       "22  50001 - 60000  southeast             0\n",
       "23  50001 - 60000  southwest             2\n",
       "24  60001 - 70000  northeast             0\n",
       "25  60001 - 70000  northwest             1\n",
       "26  60001 - 70000  southeast             2\n",
       "27  60001 - 70000  southwest             0"
      ]
     },
     "execution_count": 564,
     "metadata": {},
     "output_type": "execute_result"
    }
   ],
   "source": [
    "result_pivot = result.unstack(fill_value=0).reset_index()\n",
    "result_pivot = result_pivot.rename(columns={'level_0': 'range', 0: 'jumlah_orang'})\n",
    "result_pivot\n",
    "# result_pivot = result_pivot.pivot_table(index='level_0', columns='region')\n",
    "# result_pivot"
   ]
  },
  {
   "cell_type": "code",
   "execution_count": 565,
   "id": "cfb963f8",
   "metadata": {},
   "outputs": [
    {
     "data": {
      "image/png": "[encoded data removed]",
      "text/plain": [
       "<Figure size 1000x600 with 1 Axes>"
      ]
     },
     "metadata": {},
     "output_type": "display_data"
    }
   ],
   "source": [
    "# Membuat bar chart\n",
    "plt.figure(figsize=(10, 6)) \n",
    "sns.barplot(data=result_pivot, x='range', y='jumlah_orang', hue='region')\n",
    "plt.xticks(rotation=0) \n",
    "plt.xlabel('Range')\n",
    "plt.ylabel('Jumlah Orang')\n",
    "plt.title('Distribusi Tagihan per Region')\n",
    "plt.legend(title='Region')\n",
    "\n",
    "plt.show()"
   ]
  },
  {
   "cell_type": "code",
   "execution_count": 566,
   "id": "43e0fc77",
   "metadata": {},
   "outputs": [
    {
     "data": {
      "text/html": [
       "<div>\n",
       "<style scoped>\n",
       "    .dataframe tbody tr th:only-of-type {\n",
       "        vertical-align: middle;\n",
       "    }\n",
       "\n",
       "    .dataframe tbody tr th {\n",
       "        vertical-align: top;\n",
       "    }\n",
       "\n",
       "    .dataframe thead th {\n",
       "        text-align: right;\n",
       "    }\n",
       "</style>\n",
       "<table border=\"1\" class=\"dataframe\">\n",
       "  <thead>\n",
       "    <tr style=\"text-align: right;\">\n",
       "      <th></th>\n",
       "      <th>Smoker</th>\n",
       "      <th>count</th>\n",
       "      <th>Mean Age</th>\n",
       "      <th>Mean BMI</th>\n",
       "      <th>Mean Charges</th>\n",
       "      <th>Std_charges</th>\n",
       "      <th>Min Charges</th>\n",
       "      <th>Max Charges</th>\n",
       "      <th>proporsi</th>\n",
       "    </tr>\n",
       "  </thead>\n",
       "  <tbody>\n",
       "    <tr>\n",
       "      <th>0</th>\n",
       "      <td>no</td>\n",
       "      <td>1064</td>\n",
       "      <td>39.39</td>\n",
       "      <td>30.65</td>\n",
       "      <td>8434.27</td>\n",
       "      <td>5993.78</td>\n",
       "      <td>1121.87</td>\n",
       "      <td>36910.61</td>\n",
       "      <td>0.80</td>\n",
       "    </tr>\n",
       "    <tr>\n",
       "      <th>1</th>\n",
       "      <td>yes</td>\n",
       "      <td>274</td>\n",
       "      <td>38.51</td>\n",
       "      <td>30.71</td>\n",
       "      <td>32050.23</td>\n",
       "      <td>11541.55</td>\n",
       "      <td>12829.46</td>\n",
       "      <td>63770.43</td>\n",
       "      <td>0.20</td>\n",
       "    </tr>\n",
       "  </tbody>\n",
       "</table>\n",
       "</div>"
      ],
      "text/plain": [
       "  Smoker  count  Mean Age  Mean BMI  Mean Charges  Std_charges  Min Charges  \\\n",
       "0     no   1064     39.39     30.65       8434.27      5993.78      1121.87   \n",
       "1    yes    274     38.51     30.71      32050.23     11541.55     12829.46   \n",
       "\n",
       "   Max Charges  proporsi  \n",
       "0     36910.61      0.80  \n",
       "1     63770.43      0.20  "
      ]
     },
     "execution_count": 566,
     "metadata": {},
     "output_type": "execute_result"
    }
   ],
   "source": [
    "# Proporsi smoker dan non-smoker\n",
    "total_orang = summary_statistics_smoker_2['count'].sum()\n",
    "plot_smoker = summary_statistics_smoker_2\n",
    "plot_smoker['proporsi'] = plot_smoker['count'] / total_orang\n",
    "plot_smoker"
   ]
  },
  {
   "cell_type": "code",
   "execution_count": 567,
   "id": "bdc8bab0",
   "metadata": {},
   "outputs": [
    {
     "data": {
      "image/png": "[encoded data removed]",
      "text/plain": [
       "<Figure size 800x600 with 1 Axes>"
      ]
     },
     "metadata": {},
     "output_type": "display_data"
    }
   ],
   "source": [
    "plt.figure(figsize=(8, 6))\n",
    "sns.barplot(data=plot_smoker, x='Smoker', y='proporsi')\n",
    "plt.title('Proporsi Smoker dan Non-Smoker')\n",
    "plt.xlabel('Smoker')\n",
    "plt.ylabel('Proporsi')\n",
    "plt.show()"
   ]
  },
  {
   "cell_type": "markdown",
   "id": "5aeb71e4",
   "metadata": {},
   "source": [
    "<h1>Analisa Variabel Kontinu</h1>"
   ]
  },
  {
   "cell_type": "code",
   "execution_count": 568,
   "id": "c65ffaaa",
   "metadata": {},
   "outputs": [],
   "source": [
    "# 1. Mana yang lebih mungkin terjadi\n",
    "# a. Seseorang dengan BMI diatas 25 mendapatkan tagihan kesehatan diatas 16.7k,\n",
    "# atau\n",
    "# b. Seseorang dengan BMI dibawah 25 mendapatkan tagihan kesehatan diatas\n",
    "# 16.7k"
   ]
  },
  {
   "cell_type": "code",
   "execution_count": 569,
   "id": "b885ae61",
   "metadata": {},
   "outputs": [],
   "source": [
    "# Jawab 1"
   ]
  },
  {
   "cell_type": "code",
   "execution_count": 570,
   "id": "c7f795d9",
   "metadata": {},
   "outputs": [
    {
     "data": {
      "text/plain": [
       "334"
      ]
     },
     "execution_count": 570,
     "metadata": {},
     "output_type": "execute_result"
    }
   ],
   "source": [
    "# Hitung jumlah individu dengan BMI di atas 25 dan tagihan di atas 16.7k\n",
    "count_a = len(df[(df['bmi'] > 25) & (df['charges'] > 16700)])\n",
    "\n",
    "# Hitung jumlah individu dengan BMI di bawah 25 dan tagihan di atas 16.7k\n",
    "count_b = len(df[(df['bmi'] < 25) & (df['charges'] > 16700)])\n",
    "\n",
    "total_a_b = count_a + count_b\n",
    "total_a_b"
   ]
  },
  {
   "cell_type": "code",
   "execution_count": 571,
   "id": "d1903e26",
   "metadata": {},
   "outputs": [
    {
     "data": {
      "text/plain": [
       "0.8473053892215568"
      ]
     },
     "execution_count": 571,
     "metadata": {},
     "output_type": "execute_result"
    }
   ],
   "source": [
    "# Peluang BMI > 25 mendapat tagihan di atas 16.7k\n",
    "peluang_lebih = count_a/total_a_b\n",
    "peluang_lebih"
   ]
  },
  {
   "cell_type": "code",
   "execution_count": 572,
   "id": "f4e74a3b",
   "metadata": {},
   "outputs": [
    {
     "data": {
      "text/plain": [
       "0.15269461077844315"
      ]
     },
     "execution_count": 572,
     "metadata": {},
     "output_type": "execute_result"
    }
   ],
   "source": [
    "# Peluang BMI < 25 mendapat tagihan di atas 16.7k\n",
    "peluang_kurang = 1 - peluang_lebih\n",
    "peluang_kurang"
   ]
  },
  {
   "cell_type": "code",
   "execution_count": 573,
   "id": "fe301c6d",
   "metadata": {},
   "outputs": [],
   "source": [
    "# 2. Mana yang lebih mungkin terjadi\n",
    "# a. Seseorang perokok dengan BMI diatas 25 mendapatkan tagihan kesehatan\n",
    "# diatas 16.7k, atau\n",
    "# b. Seseorang non perokok dengan BMI diatas 25 mendapatkan tagihan kesehatan\n",
    "# diatas 16.7k"
   ]
  },
  {
   "cell_type": "code",
   "execution_count": 574,
   "id": "daa62b98",
   "metadata": {},
   "outputs": [
    {
     "data": {
      "text/plain": [
       "283"
      ]
     },
     "execution_count": 574,
     "metadata": {},
     "output_type": "execute_result"
    }
   ],
   "source": [
    "# Hitung jumlah individu perokok dengan BMI di atas 25 dan tagihan di atas 16.7k\n",
    "count_a_s = len(df[(df['smoker'] == 'yes') & (df['bmi'] > 25) & (df['charges'] > 16700)])\n",
    "\n",
    "# Hitung jumlah individu non-prokok dengan BMI di atas 25 dan tagihan di atas 16.7k\n",
    "count_b_s = len(df[(df['smoker'] == 'no') & (df['bmi'] > 25) & (df['charges'] > 16700)])\n",
    "\n",
    "total_a_b_s = count_a_s + count_b_s\n",
    "total_a_b_s"
   ]
  },
  {
   "cell_type": "code",
   "execution_count": 575,
   "id": "b46c067e",
   "metadata": {},
   "outputs": [
    {
     "data": {
      "text/plain": [
       "0.8473053892215568"
      ]
     },
     "execution_count": 575,
     "metadata": {},
     "output_type": "execute_result"
    }
   ],
   "source": [
    "# Peluang smoker BMI > 25 mendapat tagihan di atas 16.7k\n",
    "peluang_lebih_s = count_a_s/total_a_b_s\n",
    "peluang_lebih"
   ]
  },
  {
   "cell_type": "code",
   "execution_count": 576,
   "id": "d25832fd",
   "metadata": {},
   "outputs": [
    {
     "data": {
      "text/plain": [
       "0.24028268551236753"
      ]
     },
     "execution_count": 576,
     "metadata": {},
     "output_type": "execute_result"
    }
   ],
   "source": [
    "# Peluang non-smoker BMI > 25 mendapat tagihan di atas 16.7k\n",
    "peluang_kurang_s = 1 - peluang_lebih_s\n",
    "peluang_kurang_s"
   ]
  },
  {
   "cell_type": "code",
   "execution_count": null,
   "id": "a2aa554d",
   "metadata": {},
   "outputs": [],
   "source": []
  },
  {
   "cell_type": "markdown",
   "id": "efa4e74f",
   "metadata": {},
   "source": [
    "<h1>Analisa Korelasi Variabel</h1>"
   ]
  },
  {
   "cell_type": "code",
   "execution_count": 592,
   "id": "fb9ef423",
   "metadata": {},
   "outputs": [
    {
     "data": {
      "text/html": [
       "<div>\n",
       "<style scoped>\n",
       "    .dataframe tbody tr th:only-of-type {\n",
       "        vertical-align: middle;\n",
       "    }\n",
       "\n",
       "    .dataframe tbody tr th {\n",
       "        vertical-align: top;\n",
       "    }\n",
       "\n",
       "    .dataframe thead th {\n",
       "        text-align: right;\n",
       "    }\n",
       "</style>\n",
       "<table border=\"1\" class=\"dataframe\">\n",
       "  <thead>\n",
       "    <tr style=\"text-align: right;\">\n",
       "      <th></th>\n",
       "      <th>age</th>\n",
       "      <th>sex</th>\n",
       "      <th>overweight</th>\n",
       "      <th>bmi</th>\n",
       "      <th>children</th>\n",
       "      <th>smoker</th>\n",
       "      <th>region</th>\n",
       "      <th>charges</th>\n",
       "      <th>tagihan_range</th>\n",
       "    </tr>\n",
       "  </thead>\n",
       "  <tbody>\n",
       "    <tr>\n",
       "      <th>0</th>\n",
       "      <td>19</td>\n",
       "      <td>female</td>\n",
       "      <td>yes</td>\n",
       "      <td>27.90</td>\n",
       "      <td>0</td>\n",
       "      <td>yes</td>\n",
       "      <td>southwest</td>\n",
       "      <td>16884.92</td>\n",
       "      <td>(10000, 20000]</td>\n",
       "    </tr>\n",
       "    <tr>\n",
       "      <th>1</th>\n",
       "      <td>18</td>\n",
       "      <td>male</td>\n",
       "      <td>yes</td>\n",
       "      <td>33.77</td>\n",
       "      <td>1</td>\n",
       "      <td>no</td>\n",
       "      <td>southeast</td>\n",
       "      <td>1725.55</td>\n",
       "      <td>(0, 10000]</td>\n",
       "    </tr>\n",
       "    <tr>\n",
       "      <th>2</th>\n",
       "      <td>28</td>\n",
       "      <td>male</td>\n",
       "      <td>yes</td>\n",
       "      <td>33.00</td>\n",
       "      <td>3</td>\n",
       "      <td>no</td>\n",
       "      <td>southeast</td>\n",
       "      <td>4449.46</td>\n",
       "      <td>(0, 10000]</td>\n",
       "    </tr>\n",
       "    <tr>\n",
       "      <th>3</th>\n",
       "      <td>33</td>\n",
       "      <td>male</td>\n",
       "      <td>no</td>\n",
       "      <td>22.70</td>\n",
       "      <td>0</td>\n",
       "      <td>no</td>\n",
       "      <td>northwest</td>\n",
       "      <td>21984.47</td>\n",
       "      <td>(20000, 30000]</td>\n",
       "    </tr>\n",
       "    <tr>\n",
       "      <th>4</th>\n",
       "      <td>32</td>\n",
       "      <td>male</td>\n",
       "      <td>yes</td>\n",
       "      <td>28.88</td>\n",
       "      <td>0</td>\n",
       "      <td>no</td>\n",
       "      <td>northwest</td>\n",
       "      <td>3866.86</td>\n",
       "      <td>(0, 10000]</td>\n",
       "    </tr>\n",
       "  </tbody>\n",
       "</table>\n",
       "</div>"
      ],
      "text/plain": [
       "   age     sex overweight   bmi  children smoker     region  charges  \\\n",
       "0   19  female        yes 27.90         0    yes  southwest 16884.92   \n",
       "1   18    male        yes 33.77         1     no  southeast  1725.55   \n",
       "2   28    male        yes 33.00         3     no  southeast  4449.46   \n",
       "3   33    male         no 22.70         0     no  northwest 21984.47   \n",
       "4   32    male        yes 28.88         0     no  northwest  3866.86   \n",
       "\n",
       "    tagihan_range  \n",
       "0  (10000, 20000]  \n",
       "1      (0, 10000]  \n",
       "2      (0, 10000]  \n",
       "3  (20000, 30000]  \n",
       "4      (0, 10000]  "
      ]
     },
     "execution_count": 592,
     "metadata": {},
     "output_type": "execute_result"
    }
   ],
   "source": [
    "df.head()"
   ]
  },
  {
   "cell_type": "code",
   "execution_count": 594,
   "id": "98bdc433",
   "metadata": {},
   "outputs": [
    {
     "name": "stdout",
     "output_type": "stream",
     "text": [
      "Koefisien Korelasi antara BMI dan Tagihan: 0.012758900820673833\n"
     ]
    }
   ],
   "source": [
    "#Koefisien korelasi bmi dan variable tanggungan anak.\n",
    "correlation_bmi_charges = df['bmi'].corr(df['children'])\n",
    "print(\"Koefisien Korelasi antara BMI dan Tagihan:\", correlation_bmi_charges)"
   ]
  },
  {
   "cell_type": "code",
   "execution_count": 595,
   "id": "e9cf74c3",
   "metadata": {},
   "outputs": [
    {
     "name": "stdout",
     "output_type": "stream",
     "text": [
      "Koefisien Korelasi antara Jumlah Anak dan Tagihan: 0.06799822684790487\n"
     ]
    }
   ],
   "source": [
    "#Koefisien korelasi jumlaha anak dan tagihan\n",
    "correlation_children_charges = df['children'].corr(df['charges'])\n",
    "print(\"Koefisien Korelasi antara Jumlah Anak dan Tagihan:\", correlation_children_charges)\n"
   ]
  },
  {
   "cell_type": "code",
   "execution_count": 580,
   "id": "142103c8",
   "metadata": {},
   "outputs": [
    {
     "name": "stdout",
     "output_type": "stream",
     "text": [
      "Koefisien Korelasi antara bmi dan Tagihan: 0.1983409688336289\n"
     ]
    }
   ],
   "source": [
    "#Koefisien korelasi bmi dengan tagihan\n",
    "correlation_bmi_charges = df['bmi'].corr(df['charges'])\n",
    "print(\"Koefisien Korelasi antara bmi dan Tagihan:\", correlation_bmi_charges)\n"
   ]
  },
  {
   "cell_type": "code",
   "execution_count": 581,
   "id": "6096cbb9",
   "metadata": {},
   "outputs": [
    {
     "name": "stdout",
     "output_type": "stream",
     "text": [
      "Koefisien Korelasi antara Usia dan Tagihan: 0.29900819333064765\n"
     ]
    }
   ],
   "source": [
    "#Koefisien korelasi usia dengan tagihan\n",
    "correlation_age_charges = df['age'].corr(df['charges'])\n",
    "print(\"Koefisien Korelasi antara Usia dan Tagihan:\", correlation_age_charges)\n"
   ]
  },
  {
   "cell_type": "markdown",
   "id": "45babc96",
   "metadata": {},
   "source": [
    "<h1>Pengujian Hipotesis</h1>"
   ]
  },
  {
   "cell_type": "code",
   "execution_count": 582,
   "id": "84910eef",
   "metadata": {},
   "outputs": [],
   "source": [
    "# 1. Tagihan kesehatan perokok lebih tinggi daripada tagihan kesehatan non perokok\n",
    "# 2. Proporsi perokok laki laki lebih besar dari perempuan\n",
    "# 3. Tagihan kesehatan laki-laki lebih besar dari perempuan"
   ]
  },
  {
   "cell_type": "code",
   "execution_count": 583,
   "id": "4800f0a8",
   "metadata": {},
   "outputs": [],
   "source": [
    "# Jawab 1"
   ]
  },
  {
   "cell_type": "markdown",
   "id": "e8ad326d",
   "metadata": {},
   "source": [
    "H0 : u_s <= ns\n",
    "H1 : u_s > ns\n",
    "alfa = 0.05\n",
    "t test\n",
    "\n"
   ]
  },
  {
   "cell_type": "code",
   "execution_count": 605,
   "id": "652db70f",
   "metadata": {},
   "outputs": [
    {
     "name": "stdout",
     "output_type": "stream",
     "text": [
      "T-Statistic: 46.66492117272371\n",
      "P-Value: 8.271435842179102e-283\n",
      "critical value t: 1.6504543030215924\n",
      "Rata-rata tagihan smoker lebih besar dari non-smoker.\n"
     ]
    }
   ],
   "source": [
    "# Pisahkan data menjadi dua kelompok: perokok dan non-perokok\n",
    "tagihan_perokok = df[df['smoker'] == 'yes']['charges']\n",
    "tagihan_non_perokok = df[df['smoker'] == 'no']['charges']\n",
    "\n",
    "# Lakukan uji t (t-test)\n",
    "t_statistic, p_value = stats.ttest_ind(tagihan_perokok, tagihan_non_perokok)\n",
    "\n",
    "# Output hasil uji t-test\n",
    "print(\"T-Statistic:\", t_statistic)\n",
    "print(\"P-Value:\", p_value)\n",
    "\n",
    "# Tingkat signifikansi (alpha)\n",
    "alpha = 0.05\n",
    "\n",
    "# Hitung titik kritis (critical value)\n",
    "df_perokok = len(tagihan_perokok) - 1\n",
    "df_non_perokok = len(tagihan_non_perokok) - 1\n",
    "critical_value = stats.t.ppf(1 - alpha, df=df_perokok if df_perokok < df_non_perokok else df_non_perokok)\n",
    "print(f\"critical value t: {critical_value}\")\n",
    "\n",
    "# Analisis hasil uji berdasarkan nilai t\n",
    "if t_statistic > critical_value:\n",
    "    print(\"Rata-rata tagihan smoker lebih besar dari non-smoker.\")\n",
    "else:\n",
    "    print(\"Rata-rata tagihan non-smoker lebih besar dari smoker\")"
   ]
  },
  {
   "cell_type": "code",
   "execution_count": 585,
   "id": "b2b7fa7d",
   "metadata": {},
   "outputs": [],
   "source": [
    "# Proporsi perokok laki laki lebih besar dari perempuan"
   ]
  },
  {
   "cell_type": "code",
   "execution_count": 586,
   "id": "6308ac2b",
   "metadata": {},
   "outputs": [],
   "source": [
    "# Jawab 2"
   ]
  },
  {
   "cell_type": "markdown",
   "id": "4a0838b3",
   "metadata": {},
   "source": [
    "H0 : p_m < p_f\n",
    "H1 : P_m > p_f\n",
    "alfa = 0.05\n",
    "z test"
   ]
  },
  {
   "cell_type": "code",
   "execution_count": 607,
   "id": "54ef0aa4",
   "metadata": {
    "scrolled": true
   },
   "outputs": [
    {
     "name": "stdout",
     "output_type": "stream",
     "text": [
      "Proporsi perokok laki-laki lebih besar daripada proporsi perokok perempuan.\n",
      "2.7867402154855503\n"
     ]
    },
    {
     "data": {
      "text/plain": [
       "0.002662057082160274"
      ]
     },
     "execution_count": 607,
     "metadata": {},
     "output_type": "execute_result"
    }
   ],
   "source": [
    "from scipy import stats\n",
    "\n",
    "# Hitung proporsi perokok laki-laki dan perempuan\n",
    "male_smokers = len(df[(df['sex'] == 'male') & (df['smoker'] == 'yes')])\n",
    "female_smokers = len(df[(df['sex'] == 'female') & (df['smoker'] == 'yes')])\n",
    "\n",
    "# Jumlah total laki-laki dan perempuan dalam sampel\n",
    "n_male = len(df[df['sex'] == 'male'])\n",
    "n_female = len(df[df['sex'] == 'female'])\n",
    "\n",
    "# Proporsi gabungan dari seluruh populasi\n",
    "p = (male_smokers + female_smokers) / (n_male + n_female)\n",
    "\n",
    "# Hitung Z-score\n",
    "p1 = male_smokers / n_male\n",
    "p2 = female_smokers / n_female\n",
    "z_score = (p1 - p2) / ((p * (1 - p) * (1/n_male + 1/n_female))**0.5)\n",
    "\n",
    "# Hitung p-value\n",
    "p_value = 1 - stats.norm.cdf(z_score)\n",
    "\n",
    "# Tentukan tingkat signifikansi (alpha)\n",
    "alpha = 0.05\n",
    "\n",
    "# Uji hipotesis\n",
    "if p_value < alpha:\n",
    "    print(\"Proporsi perokok laki-laki lebih besar daripada proporsi perokok perempuan.\")\n",
    "else:\n",
    "    print(\"Tidak cukup bukti untuk menyatakan bahwa proporsi perokok laki-laki lebih besar daripada proporsi perokok perempuan.\")\n",
    "\n",
    "print(z_score)\n",
    "p_value"
   ]
  },
  {
   "cell_type": "code",
   "execution_count": 588,
   "id": "2143efbf",
   "metadata": {},
   "outputs": [],
   "source": [
    "# 3. Tagihan kesehatan laki-laki lebih besar dari perempuan"
   ]
  },
  {
   "cell_type": "code",
   "execution_count": 589,
   "id": "ce608672",
   "metadata": {},
   "outputs": [],
   "source": [
    "# Jawab"
   ]
  },
  {
   "cell_type": "markdown",
   "id": "8bc0467e",
   "metadata": {},
   "source": [
    "H0 : u_m < u_f\n",
    "H1 : u_m > u_f\n",
    "alfa = 0.05"
   ]
  },
  {
   "cell_type": "code",
   "execution_count": 604,
   "id": "0161bbd3",
   "metadata": {},
   "outputs": [
    {
     "name": "stdout",
     "output_type": "stream",
     "text": [
      "T-Statistic: 2.097546590051688\n",
      "P-Value: 0.03613272100592976\n",
      "Rata-rata tagihan kesehatan laki-laki lebih besar dari perempuan.\n"
     ]
    }
   ],
   "source": [
    "# Pisahkan data menjadi dua kelompok: laki-laki dan perempuan\n",
    "tagihan_laki_laki = df[df['sex'] == 'male']['charges']\n",
    "tagihan_perempuan = df[df['sex'] == 'female']['charges']\n",
    "\n",
    "# Lakukan uji T-Test\n",
    "t_statistic, p_value = stats.ttest_ind(tagihan_laki_laki, tagihan_perempuan)\n",
    "\n",
    "# Output hasil uji T-Test\n",
    "print(\"T-Statistic:\", t_statistic)\n",
    "print(\"P-Value:\", p_value)\n",
    "\n",
    "# Tingkat signifikansi (alpha)\n",
    "alpha = 0.05\n",
    "\n",
    "# Analisis hasil uji\n",
    "if p_value < alpha:\n",
    "    print(\"Rata-rata tagihan kesehatan laki-laki lebih besar dari perempuan.\")\n",
    "else:\n",
    "    print(\"Tidak terdapat perbedaan signifikan antara rata-rata tagihan kesehatan laki-laki dan perempuan.\")\n"
   ]
  },
  {
   "cell_type": "code",
   "execution_count": null,
   "id": "cd2568ea",
   "metadata": {},
   "outputs": [],
   "source": []
  },
  {
   "cell_type": "code",
   "execution_count": null,
   "id": "3193465c",
   "metadata": {},
   "outputs": [],
   "source": []
  },
  {
   "cell_type": "code",
   "execution_count": null,
   "id": "255a53a7",
   "metadata": {},
   "outputs": [],
   "source": []
  }
 ],
 "metadata": {
  "kernelspec": {
   "display_name": "Python 3 (ipykernel)",
   "language": "python",
   "name": "python3"
  },
  "language_info": {
   "codemirror_mode": {
    "name": "ipython",
    "version": 3
   },
   "file_extension": ".py",
   "mimetype": "text/x-python",
   "name": "python",
   "nbconvert_exporter": "python",
   "pygments_lexer": "ipython3",
   "version": "3.9.13"
  }
 },
 "nbformat": 4,
 "nbformat_minor": 5
}
